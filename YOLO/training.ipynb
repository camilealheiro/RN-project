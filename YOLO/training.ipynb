{
 "cells": [
  {
   "cell_type": "code",
   "execution_count": null,
   "metadata": {
    "vscode": {
     "languageId": "plaintext"
    }
   },
   "outputs": [],
   "source": [
    "ROOT_DIR = '/kaggle/input/detectionbnmn-3classes'"
   ]
  },
  {
   "cell_type": "code",
   "execution_count": null,
   "metadata": {
    "vscode": {
     "languageId": "plaintext"
    }
   },
   "outputs": [],
   "source": [
    "!pip install ultralytics"
   ]
  },
  {
   "cell_type": "code",
   "execution_count": null,
   "metadata": {
    "vscode": {
     "languageId": "plaintext"
    }
   },
   "outputs": [],
   "source": [
    "!pip install opencv-python"
   ]
  },
  {
   "cell_type": "code",
   "execution_count": null,
   "metadata": {
    "vscode": {
     "languageId": "plaintext"
    }
   },
   "outputs": [],
   "source": [
    "import os\n",
    "import numpy as np\n",
    "import cv2"
   ]
  },
  {
   "cell_type": "code",
   "execution_count": null,
   "metadata": {
    "vscode": {
     "languageId": "plaintext"
    }
   },
   "outputs": [],
   "source": [
    "import os\n",
    "\n",
    "from ultralytics import YOLO\n",
    "\n",
    "mod = \"/kaggle/input/yolo11/pytorch/default/1/yolo11l.pt\"\n",
    "\n",
    "#carregar o modelo\n",
    "models = YOLO(mod) #cria um novo modelo\n",
    "\n",
    "#Usar o modelo\n",
    "results = models.train(data=os.path.join(ROOT_DIR, 'teste_file.yaml'), epochs=150, imgsz=1080, batch=8) #treinar o modelo"
   ]
  },
  {
   "cell_type": "code",
   "execution_count": null,
   "metadata": {
    "vscode": {
     "languageId": "plaintext"
    }
   },
   "outputs": [],
   "source": [
    "model_path = '/kaggle/working/runs/detect/train/weights/best.pt'\n",
    "model = YOLO(model_path)\n",
    "\n",
    "metrics = model.val()\n",
    "metrics.box.map\n",
    "metrics.box.map50\n",
    "metrics.box.map75"
   ]
  },
  {
   "cell_type": "code",
   "execution_count": null,
   "metadata": {
    "vscode": {
     "languageId": "plaintext"
    }
   },
   "outputs": [],
   "source": [
    "from scipy.optimize import linear_sum_assignment\n",
    "\n",
    "def get_iou(ground_truth, pred):\n",
    "    # coordinates of the area of intersection.\n",
    "    ix1 = np.maximum(ground_truth[0], pred[0])\n",
    "    iy1 = np.maximum(ground_truth[1], pred[1])\n",
    "    ix2 = np.minimum(ground_truth[2], pred[2])\n",
    "    iy2 = np.minimum(ground_truth[3], pred[3])\n",
    "     \n",
    "    # Intersection height and width.\n",
    "    i_height = np.maximum(iy2 - iy1 + 1, np.array(0.))\n",
    "    i_width = np.maximum(ix2 - ix1 + 1, np.array(0.))\n",
    "     \n",
    "    area_of_intersection = i_height * i_width\n",
    "     \n",
    "    # Ground Truth dimensions.\n",
    "    gt_height = ground_truth[3] - ground_truth[1] + 1\n",
    "    gt_width = ground_truth[2] - ground_truth[0] + 1\n",
    "     \n",
    "    # Prediction dimensions.\n",
    "    pd_height = pred[3] - pred[1] + 1\n",
    "    pd_width = pred[2] - pred[0] + 1\n",
    "     \n",
    "    area_of_union = gt_height * gt_width + pd_height * pd_width - area_of_intersection\n",
    "     \n",
    "    iou = area_of_intersection / area_of_union\n",
    "     \n",
    "    return iou\n",
    "\n",
    "\n",
    "def draw_bounding_boxes(image, gt_box, pred_box, iou, threshold=0.5, class_correct=True, false_positive=False):\n",
    "    label = f\"IoU: {iou:.2f}\"\n",
    "    \n",
    "    if false_positive:\n",
    "        color = (0, 0, 255)\n",
    "        label = \"Detecção incorreta\"\n",
    "        \n",
    "    elif class_correct and iou >= threshold:\n",
    "        color = (0, 255, 0)  # Verde\n",
    "    elif class_correct and iou == 0:\n",
    "        color = (255, 0, 0)  # Azul\n",
    "    elif class_correct and iou < threshold:\n",
    "        color = (0, 255, 255)  # Amarelo\n",
    "        \n",
    "    elif class_correct == False:\n",
    "        color = (0, 0, 255)\n",
    "        label = \"classe incorreta\"\n",
    "\n",
    "    if gt_box is not None:\n",
    "        cv2.rectangle(image, (int(gt_box[0]), int(gt_box[1])), (int(gt_box[2]), int(gt_box[3])), color, 2)\n",
    "        cv2.putText(image, label, (int(gt_box[0]), int(gt_box[1]) - 10), cv2.FONT_HERSHEY_SIMPLEX, 0.5, color, 1)\n",
    "\n",
    "    if gt_box is None and pred_box is not None:\n",
    "    # Desenhar Pred box (Previsão)\n",
    "        cv2.rectangle(image, (int(pred_box[0]), int(pred_box[1])), (int(pred_box[2]), int(pred_box[3])), color, 2)\n",
    "        cv2.putText(image, label, (int(pred_box[0]), int(pred_box[1]) - 10), cv2.FONT_HERSHEY_SIMPLEX, 0.5, color, 1)\n",
    "\n",
    "    return image\n",
    "\n",
    "\n",
    "def load_ground_truth(label_path, image):\n",
    "    boxes = []\n",
    "    classes = []\n",
    "    height, width, _ = image.shape\n",
    "    with open(label_path, \"r\") as f:\n",
    "        for line in f:\n",
    "            class_id, center_x, center_y, bbox_width, bbox_height = map(float, line.strip().split())\n",
    "            # Converter para coordenadas absolutas\n",
    "            x1 = int((center_x - bbox_width / 2) * width)\n",
    "            y1 = int((center_y - bbox_height / 2) * height)\n",
    "            x2 = int((center_x + bbox_width / 2) * width)\n",
    "            y2 = int((center_y + bbox_height / 2) * height)\n",
    "            boxes.append([x1, y1, x2, y2])\n",
    "            classes.append(int(class_id))\n",
    "            \n",
    "    return boxes, classes\n",
    "\n",
    "def match_predictions_with_gt(gt_boxes, pred_boxes):\n",
    "    num_gt = len(gt_boxes)\n",
    "    num_pred = len(pred_boxes)\n",
    "    \n",
    "    # Matriz de IoU (GT x Predições)\n",
    "    iou_matrix = np.zeros((num_gt, num_pred))\n",
    "\n",
    "    for i, gt in enumerate(gt_boxes):\n",
    "        for j, pred in enumerate(pred_boxes):\n",
    "            iou_matrix[i, j] = get_iou(gt, pred)\n",
    "    \n",
    "    # Resolver o problema de associação com Hungarian Algorithm\n",
    "    gt_indices, pred_indices = linear_sum_assignment(-iou_matrix)  # Negativo porque queremos maximizar IoU\n",
    "    \n",
    "    # Identificar correspondências válidas\n",
    "    matches = []\n",
    "    unmatched_gt = set(range(num_gt))  # Ground truths sem correspondência\n",
    "    unmatched_pred = set(range(num_pred))  # Predições sem correspondência\n",
    "\n",
    "    for gt_idx, pred_idx in zip(gt_indices, pred_indices):\n",
    "        iou = iou_matrix[gt_idx, pred_idx]\n",
    "        if iou > 0:  # Apenas associações válidas\n",
    "            matches.append((gt_idx, pred_idx, iou))\n",
    "            unmatched_gt.discard(gt_idx)\n",
    "            unmatched_pred.discard(pred_idx)\n",
    "\n",
    "    # Adicionar GTs sem correspondência com IoU = 0\n",
    "    for gt_idx in unmatched_gt:\n",
    "        matches.append((gt_idx, None, 0.0))\n",
    "\n",
    "    # Adicionar previsões sem correspondência como falsos positivos\n",
    "    for pred_idx in unmatched_pred:\n",
    "        matches.append((None, pred_idx, 0.0))\n",
    "\n",
    "    return matches"
   ]
  },
  {
   "cell_type": "code",
   "execution_count": null,
   "metadata": {
    "vscode": {
     "languageId": "plaintext"
    }
   },
   "outputs": [],
   "source": [
    "image_dir = \"/kaggle/input/test-dataset/images/test\"  # substitua pelo caminho do seu diretório de imagens\n",
    "label_dir = \"/kaggle/input/test-dataset/labels/test\"\n",
    "output_dir = \"/kaggle/working/out_720\"\n",
    "\n",
    "image_paths = [os.path.join(image_dir, f) for f in os.listdir(image_dir)]\n",
    "os.makedirs(output_dir, exist_ok=True)\n",
    "\n",
    "for img in image_paths:\n",
    "   # Carregar imagem\n",
    "    image = cv2.imread(img)\n",
    "    image_name = os.path.basename(img)\n",
    "    \n",
    "    # Caminho do label correspondente\n",
    "    label_path = os.path.join(label_dir, os.path.splitext(image_name)[0] + \".txt\")\n",
    "    \n",
    "    # Carregar caixas Ground Truth\n",
    "    if not os.path.exists(label_path):\n",
    "        print(f\"Label não encontrado para {image_name}. Pulando...\")\n",
    "        continue\n",
    "    gt_boxes, gt_classes = load_ground_truth(label_path, image)\n",
    "    \n",
    "    # Fazer predições\n",
    "    results = model.predict(img, save=False, show_conf=False, show_labels=False)\n",
    "    pred_boxes = results[0].boxes.xyxy.cpu().numpy()  # Predições: [x_min, y_min, x_max, y_max]\n",
    "    pred_classes = results[0].boxes.cls.cpu().numpy().astype(int)\n",
    "\n",
    "    matches = match_predictions_with_gt(gt_boxes, pred_boxes)\n",
    "\n",
    "    for gt_idx, pred_idx, iou in matches:\n",
    "        if gt_idx is not None:\n",
    "            gt_box = gt_boxes[gt_idx]\n",
    "            gt_class = gt_classes[gt_idx]\n",
    "        else:\n",
    "            gt_box, gt_class = None, None  # Não foi detectado\n",
    "    \n",
    "        if pred_idx is not None:\n",
    "            pred_box = pred_boxes[pred_idx]\n",
    "            pred_class = pred_classes[pred_idx]\n",
    "        else:\n",
    "            pred_box, pred_class = None, None  # Previsão sem correspondência\n",
    "    \n",
    "        # Desenhar caixas na imagem\n",
    "        if gt_box is not None and pred_box is not None:\n",
    "            class_correct = gt_class == pred_class\n",
    "            # Caso normal: GT e predição correspondem\n",
    "            if class_correct:\n",
    "                print(f\"imagem:{image_name}; iou: {iou}; classe correta\")\n",
    "            else:\n",
    "                print(f\"imagem: {image_name}; IoU: {iou:.2f}; classe incorreta (GT: {gt_class}, Pred: {pred_class}).\")\n",
    "                \n",
    "            image = draw_bounding_boxes(image, gt_box, pred_box, iou, class_correct=class_correct)\n",
    "                \n",
    "        elif gt_box is not None:\n",
    "            # Caso: GT sem correspondência (IoU = 0)\n",
    "            print(f\"imagem:{image_name}; objeto não detectado. IoU: 0\")\n",
    "            image = draw_bounding_boxes(image, gt_box, [0, 0, 0, 0], 0)  # Caixa fictícia para visualização\n",
    "        elif pred_box is not None:\n",
    "            # Caso: Previsão sem correspondência\n",
    "            print(f\"imagem:{image_name}; falso positivo detectado. IoU: 0\")\n",
    "            image = draw_bounding_boxes(image, [0, 0, 0, 0], pred_box, 0, false_positive=True)  # Caixa fictícia para visualização\n",
    "\n",
    "    save_path = os.path.join(output_dir, image_name)\n",
    "    cv2.imwrite(save_path, image)\n",
    "            "
   ]
  },
  {
   "cell_type": "code",
   "execution_count": null,
   "metadata": {
    "vscode": {
     "languageId": "plaintext"
    }
   },
   "outputs": [],
   "source": [
    "image_dir = \"/kaggle/input/test-dataset/images/test\"  # substitua pelo caminho do seu diretório de imagens\n",
    "\n",
    "image_paths = [os.path.join(image_dir, f) for f in os.listdir(image_dir)]\n",
    "\n",
    "for img in image_paths:\n",
    "    model.predict(img, save=True, show_conf=False, show_labels=False)"
   ]
  }
 ],
 "metadata": {
  "language_info": {
   "name": "python"
  }
 },
 "nbformat": 4,
 "nbformat_minor": 2
}
